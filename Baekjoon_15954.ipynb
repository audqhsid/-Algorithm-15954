{
 "cells": [
  {
   "cell_type": "code",
   "execution_count": 21,
   "metadata": {},
   "outputs": [],
   "source": [
    "def find_min_std(n, k, L):\n",
    "    std = []\n",
    "    # 리스트에 저장해서 min을 찾는 것이 빠를까 아니면 for 내에서 매번 if로 값을 비교하면서 찾는 것이 빠를까\n",
    "    # 리스트 내 특정 범위 값만 구하는 함수는 없을까\n",
    "    for i in range(n-k+1):\n",
    "        temp_std = 0\n",
    "        temp_sum = L[i] + L[i+1] + L[i+2]\n",
    "        #print(L[i], L[i+1], L[i+2])\n",
    "        avg = temp_sum / k\n",
    "        #print(avg)\n",
    "        for j in range(k):\n",
    "            temp_std += ((avg - L[i+j])**2)/k\n",
    "        std.append((temp_std**0.5))\n",
    "        #print(std)\n",
    "    min_std = min(std)\n",
    "    return min_std"
   ]
  },
  {
   "cell_type": "code",
   "execution_count": 22,
   "metadata": {},
   "outputs": [
    {
     "name": "stdout",
     "output_type": "stream",
     "text": [
      "5 3\n",
      "1 2 3 4 5\n",
      "1 2 3\n",
      "2.0\n",
      "[0.816496580927726]\n",
      "2 3 4\n",
      "3.0\n",
      "[0.816496580927726, 0.816496580927726]\n",
      "3 4 5\n",
      "4.0\n",
      "[0.816496580927726, 0.816496580927726, 0.816496580927726]\n",
      "최소 표준편차는:  0.816496580927726\n"
     ]
    }
   ],
   "source": [
    "n, k = map(int,input().split())\n",
    "# n번만 실행된다. 하지만 한줄에 값들을 저장할 수는 없을까\n",
    "#preference = []    \n",
    "#for i in range(n):\n",
    "#    temp = input()\n",
    "#    preference.append(int(temp))\n",
    "# preference의 항목 수가 n이 아니어도 동작하는 점이 문제\n",
    "preference = list(map(int, input().split()))\n",
    "\n",
    "result = find_min_std(n, k, preference)\n",
    "print(\"최소 표준편차는: \", result)"
   ]
  },
  {
   "cell_type": "code",
   "execution_count": null,
   "metadata": {},
   "outputs": [],
   "source": []
  }
 ],
 "metadata": {
  "kernelspec": {
   "display_name": "Python 3",
   "language": "python",
   "name": "python3"
  },
  "language_info": {
   "codemirror_mode": {
    "name": "ipython",
    "version": 3
   },
   "file_extension": ".py",
   "mimetype": "text/x-python",
   "name": "python",
   "nbconvert_exporter": "python",
   "pygments_lexer": "ipython3",
   "version": "3.6.8"
  }
 },
 "nbformat": 4,
 "nbformat_minor": 2
}
